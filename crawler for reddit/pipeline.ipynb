{
 "cells": [
  {
   "cell_type": "code",
   "execution_count": 2,
   "metadata": {},
   "outputs": [
    {
     "name": "stderr",
     "output_type": "stream",
     "text": [
      "C:\\Users\\user\\Anaconda3\\lib\\site-packages\\ipykernel_launcher.py:2: ScrapyDeprecationWarning: Module `scrapy.conf` is deprecated, use `crawler.settings` attribute instead\n",
      "  \n",
      "C:\\Users\\user\\Anaconda3\\lib\\site-packages\\ipykernel_launcher.py:4: ScrapyDeprecationWarning: Module `scrapy.log` has been deprecated, Scrapy now relies on the builtin Python library for logging. Read the updated logging entry in the documentation to learn more.\n",
      "  after removing the cwd from sys.path.\n"
     ]
    }
   ],
   "source": [
    "import pymongo\n",
    "from scrapy.conf import settings\n",
    "from scrapy.exceptions import DropItem\n",
    "from scrapy import log"
   ]
  },
  {
   "cell_type": "code",
   "execution_count": 3,
   "metadata": {},
   "outputs": [],
   "source": [
    "class DuplicatesPipeline(object):\n",
    "    def __init__(self):\n",
    "        self.ids_seen = set()\n",
    "\n",
    "    def process_item(self, item, spider):\n",
    "        if item['link'] in self.ids_seen:\n",
    "            raise DropItem(\"Duplicate item found: %s\" % item)\n",
    "        else:\n",
    "            self.ids_seen.add(item['link'])\n",
    "        return item\n",
    "\n",
    "class MongoDBPipeline(object):\n",
    "    def __init__(self):\n",
    "        connection = pymongo.MongoClient(\n",
    "            settings['MONGODB_SERVER'],\n",
    "            settings['MONGODB_PORT']\n",
    "        )\n",
    "        db = connection[settings['MONGODB_DB']]\n",
    "        self.collection = db[settings['MONGODB_COLLECTION']]\n",
    "\n",
    "    def process_item(self, item, spider):\n",
    "        valid = True\n",
    "        for data in item:\n",
    "            if not data:\n",
    "                valid = False\n",
    "                raise DropItem(\"Missing{0}!\".format(data))\n",
    "            if valid:\n",
    "                self.collection.insert(dict(item))\n",
    "                log.msg(\"Added to MongoDB database!\", level=log.DEBUG, spider = spider)\n",
    "        return item"
   ]
  },
  {
   "cell_type": "code",
   "execution_count": null,
   "metadata": {},
   "outputs": [],
   "source": []
  }
 ],
 "metadata": {
  "kernelspec": {
   "display_name": "Python 3",
   "language": "python",
   "name": "python3"
  },
  "language_info": {
   "codemirror_mode": {
    "name": "ipython",
    "version": 3
   },
   "file_extension": ".py",
   "mimetype": "text/x-python",
   "name": "python",
   "nbconvert_exporter": "python",
   "pygments_lexer": "ipython3",
   "version": "3.6.5"
  }
 },
 "nbformat": 4,
 "nbformat_minor": 2
}
