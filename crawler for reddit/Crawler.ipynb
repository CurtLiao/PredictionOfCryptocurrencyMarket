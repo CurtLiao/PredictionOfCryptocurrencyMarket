{
 "cells": [
  {
   "cell_type": "code",
   "execution_count": 2,
   "metadata": {},
   "outputs": [
    {
     "ename": "ModuleNotFoundError",
     "evalue": "No module named 'item'",
     "output_type": "error",
     "traceback": [
      "\u001b[1;31m---------------------------------------------------------------------------\u001b[0m",
      "\u001b[1;31mModuleNotFoundError\u001b[0m                       Traceback (most recent call last)",
      "\u001b[1;32m<ipython-input-2-d2aa7d324626>\u001b[0m in \u001b[0;36m<module>\u001b[1;34m()\u001b[0m\n\u001b[0;32m      2\u001b[0m \u001b[1;32mfrom\u001b[0m \u001b[0mbs4\u001b[0m \u001b[1;32mimport\u001b[0m \u001b[0mBeautifulSoup\u001b[0m\u001b[1;33m\u001b[0m\u001b[0m\n\u001b[0;32m      3\u001b[0m \u001b[1;32mfrom\u001b[0m \u001b[0mscrapy\u001b[0m \u001b[1;32mimport\u001b[0m \u001b[0mSpider\u001b[0m\u001b[1;33m,\u001b[0m \u001b[0mRequest\u001b[0m\u001b[1;33m\u001b[0m\u001b[0m\n\u001b[1;32m----> 4\u001b[1;33m \u001b[1;32mfrom\u001b[0m \u001b[0mitem\u001b[0m \u001b[1;32mimport\u001b[0m \u001b[0mRedditItem\u001b[0m\u001b[1;33m\u001b[0m\u001b[0m\n\u001b[0m",
      "\u001b[1;31mModuleNotFoundError\u001b[0m: No module named 'item'"
     ]
    }
   ],
   "source": [
    "import re\n",
    "from bs4 import BeautifulSoup\n",
    "from scrapy import Spider, Request\n",
    "from item import RedditItem"
   ]
  },
  {
   "cell_type": "code",
   "execution_count": 4,
   "metadata": {},
   "outputs": [],
   "source": [
    "class RedditSpider(Spider):\n",
    "    name = 'reddit'\n",
    "    allowed_domains = ['reddit.com']\n",
    "    start_urls = [\n",
    "        'http://www.reddit.com/r/circlejerk',\n",
    "        'http://www.reddit.com/r/gaming',\n",
    "        'http://www.reddit.com/r/floridaman',\n",
    "        'http://www.reddit.com/r/movies',\n",
    "        'http://www.reddit.com/r/science',\n",
    "        'http://www.reddit.com/r/seahawks',\n",
    "        'http://www.reddit.com/r/totallynotrobots',\n",
    "        'http://www.reddit.com/r/uwotm8',\n",
    "        'http://www.reddit.com/r/videos',\n",
    "        'http://www.reddit.com/r/worldnews'\n",
    "    ]\n",
    "    \n",
    "    def parse(self, response):\n",
    "        links = response.xpath('//p[@class=\"title\"]/a[@class=\"title may-blank\"]/@href').extract()\n",
    "        titles = response.xpath('//p[@class=\"title\"]/a[@class=\"title may-blank\"]/text()').extract()\n",
    "        dates = response.xpath('//p[@class=\"tagline\"]/time[@class=\"live-timestamp\"]/@title').extract()\n",
    "        votes = response.xpath('//div[@class=\"midcol unvoted\"]/div[@class=\"score unvoted\"]/text()').extract()\n",
    "        comments = response.xpath('//div[@id=\"siteTable\"]//a[@class=\"comments may-blank\"]/@href').extract()\n",
    "        for i, link in enumerate(comments):\n",
    "            item = RedditItem()\n",
    "            item['subreddit'] = str(re.findall('/r/[A-Za-z]*8?', link))[3:len(str(re.findall('/r/[A-Za-z]*8?', link)))-2]\n",
    "            item['link'] = link[i]\n",
    "            item['title'] = titles[i]\n",
    "            item['date'] = dates[i]\n",
    "            if votes[i] == u'\\u2022':\n",
    "                item['vote'] = 'hidden'\n",
    "            else:\n",
    "                item['vote'] = int(votes[i])\n",
    "\n",
    "            request = Request(link, callback=self.parse_comment_page)\n",
    "            request.meta['item'] = item\n",
    "            yield request\n",
    "\n",
    "    def parse_comment_page(self, response):\n",
    "        item = response.meta['item']\n",
    "        top = response.xpath('//div[@class=\"commentarea\"]//div[@class=\"md\"]').extract()\n",
    "        top_soup = BeautifulSoup(top, 'html.parser')\n",
    "        item['top_comment'] = top_soup.get_text().replace('\\n', '')\n",
    "        yield item"
   ]
  }
 ],
 "metadata": {
  "kernelspec": {
   "display_name": "Python 3",
   "language": "python",
   "name": "python3"
  },
  "language_info": {
   "codemirror_mode": {
    "name": "ipython",
    "version": 3
   },
   "file_extension": ".py",
   "mimetype": "text/x-python",
   "name": "python",
   "nbconvert_exporter": "python",
   "pygments_lexer": "ipython3",
   "version": "3.6.5"
  }
 },
 "nbformat": 4,
 "nbformat_minor": 2
}
