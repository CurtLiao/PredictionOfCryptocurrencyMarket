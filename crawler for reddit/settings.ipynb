{
 "cells": [
  {
   "cell_type": "code",
   "execution_count": 1,
   "metadata": {},
   "outputs": [],
   "source": [
    "BOT_NAME = 'reddit'\n",
    "SPIDER_MODULES = ['reddit.spiders']\n",
    "NEWSPIDER_MODULES = ['reddit.spiders']\n",
    "DOWNLOAD_DELAY = 2\n",
    "\n",
    "ITEM_PIPELINES = {\n",
    "    'reddit.pipelines.DuplicatesPipeline': 300,\n",
    "    'reddit.pipelines.MongoDBPipeline': 800,\n",
    "}\n",
    "\n",
    "MONGODB_SERVER = 'localhost'\n",
    "MONGODB_PORT = 27017\n",
    "MONGODB_DB = 'reddit'\n",
    "MONGODB_COLLECTION = 'post'"
   ]
  }
 ],
 "metadata": {
  "kernelspec": {
   "display_name": "Python 3",
   "language": "python",
   "name": "python3"
  },
  "language_info": {
   "codemirror_mode": {
    "name": "ipython",
    "version": 3
   },
   "file_extension": ".py",
   "mimetype": "text/x-python",
   "name": "python",
   "nbconvert_exporter": "python",
   "pygments_lexer": "ipython3",
   "version": "3.6.5"
  }
 },
 "nbformat": 4,
 "nbformat_minor": 2
}
